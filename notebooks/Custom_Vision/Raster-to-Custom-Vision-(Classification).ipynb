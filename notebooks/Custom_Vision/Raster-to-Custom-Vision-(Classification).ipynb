{
 "cells": [
  {
   "cell_type": "code",
   "execution_count": null,
   "id": "fbc2eec5",
   "metadata": {},
   "outputs": [],
   "source": [
    "import cv2, geopandas, geojson, io, json, os, rasterio\n",
    "import numpy as np\n",
    "from azure.cognitiveservices.vision.customvision.training import CustomVisionTrainingClient\n",
    "from azure.cognitiveservices.vision.customvision.prediction import CustomVisionPredictionClient\n",
    "from azure.cognitiveservices.vision.customvision.training.models import ImageFileCreateBatch, ImageFileCreateEntry, Region\n",
    "from azure.storage.blob import BlobServiceClient\n",
    "from msrest.authentication import ApiKeyCredentials\n",
    "from PIL import Image\n",
    "from rasterio.windows import Window"
   ]
  },
  {
   "cell_type": "markdown",
   "id": "d56ed177",
   "metadata": {},
   "source": [
    "### Environment Variables"
   ]
  },
  {
   "cell_type": "code",
   "execution_count": null,
   "id": "e619f39e",
   "metadata": {},
   "outputs": [],
   "source": [
    "custom_vision_training_key = '<enter custom vision training key>' # Move to .env\n",
    "ENDPOINT = \"https://<enter project endpoint>.cognitiveservices.azure.com/\"\n",
    "\n",
    "shape_file_name = 'Plot1_Labels.shp'\n",
    "geojson_file_name = '{0}.geojson'.format(shape_file_name.split('.')[0])\n",
    "raster_file_name = 'Plot1_RGB.tif'\n",
    "\n",
    "data_folder = os.path.join(os.getcwd(), 'data')\n",
    "golden_tree_folder = os.path.join(data_folder, 'Golden_Tree')\n",
    "geojson_file_path = os.path.join(golden_tree_folder, geojson_file_name)\n",
    "shape_file_path = os.path.join(golden_tree_folder, shape_file_name)\n",
    "raster_path = os.path.join(golden_tree_folder, raster_file_name)"
   ]
  },
  {
   "cell_type": "markdown",
   "id": "5121a9da",
   "metadata": {},
   "source": [
    "### Connect to Custom Vision Training client"
   ]
  },
  {
   "cell_type": "code",
   "execution_count": null,
   "id": "77e0a091",
   "metadata": {},
   "outputs": [],
   "source": [
    "credentials = ApiKeyCredentials(in_headers={\"Training-key\": custom_vision_training_key})\n",
    "trainer = CustomVisionTrainingClient(ENDPOINT, credentials)"
   ]
  },
  {
   "cell_type": "markdown",
   "id": "016ad705",
   "metadata": {},
   "source": [
    "### Manually select a Project"
   ]
  },
  {
   "cell_type": "code",
   "execution_count": null,
   "id": "bcfcb732",
   "metadata": {},
   "outputs": [],
   "source": [
    "projects = trainer.get_projects()\n",
    "\n",
    "for project in projects:\n",
    "    print(project.id)\n",
    "    print(project.name)"
   ]
  },
  {
   "cell_type": "code",
   "execution_count": null,
   "id": "b24334eb",
   "metadata": {},
   "outputs": [],
   "source": [
    "project = projects[0]\n",
    "print(project.id)\n",
    "print(project.name)"
   ]
  },
  {
   "cell_type": "markdown",
   "id": "7a1d8ad5",
   "metadata": {},
   "source": [
    "### Convert Shapefile to GeoJson"
   ]
  },
  {
   "cell_type": "code",
   "execution_count": null,
   "id": "88180b19",
   "metadata": {},
   "outputs": [],
   "source": [
    "shape_file = geopandas.read_file(shape_file_path)\n",
    "shape_file.to_file(geojson_file_path, driver='GeoJSON')"
   ]
  },
  {
   "cell_type": "markdown",
   "id": "e0f5a77a",
   "metadata": {},
   "source": [
    "### Open raster"
   ]
  },
  {
   "cell_type": "code",
   "execution_count": null,
   "id": "df65c9cc",
   "metadata": {},
   "outputs": [],
   "source": [
    "dataset = rasterio.open(raster_path)\n",
    "print(dataset.width)\n",
    "print(dataset.height)\n",
    "print(dataset.count)"
   ]
  },
  {
   "cell_type": "code",
   "execution_count": null,
   "id": "4a0e517c",
   "metadata": {},
   "outputs": [],
   "source": [
    "labels = {}\n",
    "\n",
    "tags = trainer.get_tags(project.id)\n",
    "\n",
    "for tag in tags:\n",
    "    print(tag.name)\n",
    "    labels[tag.name] = tag"
   ]
  },
  {
   "cell_type": "code",
   "execution_count": null,
   "id": "e06da237",
   "metadata": {
    "scrolled": true
   },
   "outputs": [],
   "source": [
    "# Load labels...\n",
    "with open(geojson_file_path) as f:\n",
    "    data = json.load(f)\n",
    "    features = data['features']\n",
    "\n",
    "count = 0\n",
    "\n",
    "# For each label...\n",
    "for feature in features:\n",
    "    if feature['type'] == 'Feature' and feature['geometry']['type'] == 'Polygon':\n",
    "        # Get the name of the label...\n",
    "        label = feature['properties']['Class']\n",
    "        print(label)\n",
    "\n",
    "        tag = None\n",
    "\n",
    "        # If we can't reference the tag locally...\n",
    "        if labels.get(label, None) == None:           \n",
    "            # Create it...\n",
    "            tag = trainer.create_tag(project.id, label)\n",
    "            labels[label] = tag\n",
    "\n",
    "        tag = labels.get(label)\n",
    "        \n",
    "        # Create bounding box...\n",
    "        coordinates = feature['geometry']['coordinates'][0]\n",
    "        \n",
    "        left = sorted(coordinates)[0][0]\n",
    "        right = sorted(coordinates)[-1][0]\n",
    "        top = sorted(coordinates, key=lambda coordinate: coordinate[1], reverse=True)[0][1]\n",
    "        bottom = sorted(coordinates, key=lambda coordinate: coordinate[1], reverse=True)[-1][1]\n",
    "        \n",
    "        top_x, top_y = dataset.index(left, top)\n",
    "        bottom_x, bottom_y = dataset.index(right, bottom)\n",
    "        \n",
    "        width = bottom_y - top_y\n",
    "        height = bottom_x - top_x\n",
    "        \n",
    "        window = dataset.read(indexes=[1, 2, 3], window=rasterio.windows.Window(top_y, top_x, width, height))\n",
    "        \n",
    "        # Save out the window...\n",
    "        profile = {\n",
    "            \"driver\": \"JPEG\",\n",
    "            \"count\": 3,\n",
    "            \"height\": height,\n",
    "            \"width\": width,\n",
    "            \"dtype\": \"uint8\"\n",
    "        }\n",
    "\n",
    "        chip_name = 'Window_{0}.JPG'.format(count)\n",
    "        \n",
    "        window_path = os.path.join(golden_tree_folder, chip_name)\n",
    "\n",
    "        with rasterio.open(window_path, 'w', **profile) as out:\n",
    "            out.write(window)\n",
    "\n",
    "        # Upload to the window to Custom Vision...\n",
    "        buffer = io.BytesIO()\n",
    "\n",
    "        im = Image.open(window_path)\n",
    "        im = im.convert('RGB')\n",
    "        im.save(buffer, format='JPEG')\n",
    "\n",
    "        images = []\n",
    "\n",
    "        images.append(ImageFileCreateEntry(name=chip_name, contents=buffer.getvalue(), tag_ids=[tag.id]))\n",
    "\n",
    "        print('Uploading to Classification Project...')\n",
    "        result = trainer.create_images_from_files(project.id, batch=ImageFileCreateBatch(images=images))\n",
    "\n",
    "        if not result.is_batch_successful:\n",
    "            for image_create_result in result.images:\n",
    "                print(\"Image status: \", image_create_result.status)\n",
    "\n",
    "        os.remove(window_path)\n",
    "        \n",
    "        count = count + 1"
   ]
  },
  {
   "cell_type": "code",
   "execution_count": null,
   "id": "b87c566a",
   "metadata": {},
   "outputs": [],
   "source": [
    "dataset.close()"
   ]
  },
  {
   "cell_type": "code",
   "execution_count": null,
   "id": "e00195cf",
   "metadata": {},
   "outputs": [],
   "source": []
  }
 ],
 "metadata": {
  "kernelspec": {
   "display_name": "Python 3.8.5 ('base')",
   "language": "python",
   "name": "python3"
  },
  "language_info": {
   "codemirror_mode": {
    "name": "ipython",
    "version": 3
   },
   "file_extension": ".py",
   "mimetype": "text/x-python",
   "name": "python",
   "nbconvert_exporter": "python",
   "pygments_lexer": "ipython3",
   "version": "3.8.5"
  },
  "vscode": {
   "interpreter": {
    "hash": "5bbd0e74114ad0b277c5b9fb4504daaeac032fe9115eb2a1dcc303b3dc066136"
   }
  }
 },
 "nbformat": 4,
 "nbformat_minor": 5
}
