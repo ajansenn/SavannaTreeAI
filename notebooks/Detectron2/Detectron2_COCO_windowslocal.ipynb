{
 "cells": [
  {
   "cell_type": "markdown",
   "id": "e4d607c7",
   "metadata": {},
   "source": [
    "# Detectron2 Savanna Tree AI\n",
    "Use this notebook to imort training data in COCO format, visualise labels, train a model using Detectron2 architecture and score test data to visualise performance. \n"
   ]
  },
  {
   "cell_type": "markdown",
   "id": "c4a67590",
   "metadata": {},
   "source": [
    "### Import dataset"
   ]
  },
  {
   "cell_type": "code",
   "execution_count": null,
   "id": "b82aff47",
   "metadata": {},
   "outputs": [],
   "source": [
    "#Register metadata for annotations and images\n",
    "from detectron2.data import MetadataCatalog\n",
    "from detectron2.data.catalog import DatasetCatalog\n",
    "\n",
    "from detectron2.data.datasets import register_coco_instances"
   ]
  },
  {
   "cell_type": "code",
   "execution_count": null,
   "id": "933e7c47",
   "metadata": {},
   "outputs": [],
   "source": [
    "#Import tree dataset in COCO format. Give your dataset a name in the registered_data line 'insert name here'. \n",
    "#Specify in the register_coco_instances() line the location of the .json file for annotations and the folder with the images.\n",
    "registered_data='<insert dataset name here>'\n",
    "\n",
    "register_coco_instances(registered_data, {}, \"C:/<insert file path here>/<insert file name>.json\", \"C:/<path to folder with training images>\")"
   ]
  },
  {
   "cell_type": "code",
   "execution_count": null,
   "id": "fe4f37a0",
   "metadata": {},
   "outputs": [],
   "source": [
    "dataset_metadata = MetadataCatalog.get(registered_data)\n",
    "dataset_dicts = DatasetCatalog.get(registered_data)"
   ]
  },
  {
   "cell_type": "code",
   "execution_count": null,
   "id": "fbbe5195",
   "metadata": {},
   "outputs": [],
   "source": [
    "#Run this cell to check the data has been registered successfully and all the classes are included.\n",
    "dataset_metadata"
   ]
  },
  {
   "cell_type": "markdown",
   "id": "fc180bf6",
   "metadata": {},
   "source": [
    "### Import and register evaluation dataset"
   ]
  },
  {
   "cell_type": "code",
   "execution_count": null,
   "id": "ac5e8bc5",
   "metadata": {},
   "outputs": [],
   "source": [
    "#Register evaluation dataset with unseen images for testing model.\n",
    "registered_data_eval='data_eval'\n",
    "register_coco_instances(registered_data_eval, {}, \"C:/<insert file pathe here>/<insert file name>.json\", \"C:/<path to folder with training images>\")"
   ]
  },
  {
   "cell_type": "code",
   "execution_count": null,
   "id": "b966b340",
   "metadata": {},
   "outputs": [],
   "source": [
    "#Register evaluation dataset metadata\n",
    "dataset_metadata_eval = MetadataCatalog.get(registered_data_eval)\n",
    "dataset_dicts_eval = DatasetCatalog.get(registered_data_eval)"
   ]
  },
  {
   "cell_type": "code",
   "execution_count": null,
   "id": "f4bcbc06",
   "metadata": {},
   "outputs": [],
   "source": [
    "#Run this cell to check the data has been registered successfully and all the classes are included.\n",
    "dataset_metadata_eval"
   ]
  },
  {
   "cell_type": "markdown",
   "id": "c5304f85",
   "metadata": {},
   "source": [
    "### Visualise annotations and labels"
   ]
  },
  {
   "cell_type": "code",
   "execution_count": null,
   "id": "6e2e4e13",
   "metadata": {
    "scrolled": false
   },
   "outputs": [],
   "source": [
    "#Run this cell to visualise 2 random images from your training dataset with their annotations and labels overlayed.\n",
    "#Check for any anomalies in your data before continuing. Re-run cell to view different labels. \n",
    "import random\n",
    "import cv2\n",
    "%matplotlib inline\n",
    "import matplotlib.pyplot as plt\n",
    "\n",
    "from detectron2.utils.visualizer import Visualizer\n",
    "\n",
    "\n",
    "\n",
    "#for d in random.sample(dataset_dicts, 3):\n",
    "for d in dataset_dicts_eval[2:4]:\n",
    "    img = cv2.imread(d[\"file_name\"])\n",
    "    visualizer = Visualizer(img[:, :, ::-1], metadata=dataset_metadata_eval,scale=0.5)\n",
    "    vis = visualizer.draw_dataset_dict(d)\n",
    "    plt.figure(figsize = (20,20))\n",
    "    plt.imshow(vis.get_image()[:,:, ::-1])\n",
    "    plt.show()\n",
    "    #plt.savefig('fig.jpg')\n",
    "    print(d[\"file_name\"])\n",
    "    "
   ]
  },
  {
   "cell_type": "markdown",
   "id": "b1667f28",
   "metadata": {},
   "source": [
    "# Train Detectron2 Model"
   ]
  },
  {
   "cell_type": "code",
   "execution_count": null,
   "id": "a6087bc0",
   "metadata": {},
   "outputs": [],
   "source": [
    "from detectron2.evaluation import COCOEvaluator\n",
    "from detectron2.engine import DefaultTrainer\n",
    "class CocoTrainer(DefaultTrainer):\n",
    "\n",
    "  @classmethod\n",
    "  def build_evaluator(cls, cfg, dataset_name, output_folder=None):\n",
    "\n",
    "    if output_folder is None:\n",
    "        os.makedirs(\"coco_eval\", exist_ok=True)\n",
    "        output_folder = \"coco_eval\"\n",
    "\n",
    "    return COCOEvaluator(dataset_name, cfg, False, output_folder)"
   ]
  },
  {
   "cell_type": "code",
   "execution_count": null,
   "id": "9abf4480",
   "metadata": {
    "scrolled": true,
    "tags": [
     "outputPrepend"
    ]
   },
   "outputs": [],
   "source": [
    "from detectron2.engine import DefaultTrainer\n",
    "from detectron2.config import get_cfg\n",
    "from detectron2 import model_zoo\n",
    "\n",
    "import os\n",
    "\n",
    "cfg = get_cfg()\n",
    "cfg.merge_from_file(model_zoo.get_config_file(\"COCO-InstanceSegmentation/mask_rcnn_R_50_FPN_3x.yaml\"))\n",
    "\n",
    "cfg.DATASETS.TRAIN = (registered_data,)\n",
    "cfg.DATASETS.TEST = (registered_data_eval,)  # no metrics implemented for this dataset\n",
    "cfg.DATALOADER.NUM_WORKERS = 2\n",
    "\n",
    "\n",
    "cfg.MODEL.WEIGHTS =model_zoo.get_checkpoint_url(\"COCO-InstanceSegmentation/mask_rcnn_R_50_FPN_3x/137849600/model_final_f10217.pkl\")\n",
    "#cfg.MODEL.WEIGHTS = os.path.join(cfg.OUTPUT_DIR, \"model_final.pth\")\n",
    "cfg.SOLVER.IMS_PER_BATCH = 2\n",
    "cfg.SOLVER.BASE_LR = 0.00025\n",
    "cfg.SOLVER.MAX_ITER = 10000   #100000  # 200000   # 300 iterations seems good enough, but you can certainly train longer\n",
    "cfg.MODEL.ROI_HEADS.BATCH_SIZE_PER_IMAGE = 64  # faster, and good enough for this dataset\n",
    "cfg.MODEL.ROI_HEADS.NUM_CLASSES = 38  #check the number of classes in your dataset when registering above\n",
    "cfg.MODEL.SEM_SEG_HEAD.NUM_CLASSES = 38 #Number of classes\n",
    "cfg.TEST.EVAL_PERIOD = 100\n",
    "\n",
    "os.makedirs(cfg.OUTPUT_DIR, exist_ok=True)\n",
    "trainer = DefaultTrainer(cfg)\n",
    "trainer.resume_or_load(resume=False)\n",
    "trainer.train()"
   ]
  },
  {
   "cell_type": "markdown",
   "id": "233e65ad",
   "metadata": {},
   "source": [
    "#### View performance in tensorboard\n",
    "To view plots of the metrics above e.g. loss etc. \n",
    "\n",
    "In a command promt type --> tensorboard --logdir=E:\\es\\Detectron2\\Coding\\SavannaTree\\output Then copy and paste http://localhost:6006 into a web browser to view plots of model performance"
   ]
  },
  {
   "cell_type": "markdown",
   "id": "e8831726",
   "metadata": {},
   "source": [
    "# Make predictions from trained model"
   ]
  },
  {
   "cell_type": "code",
   "execution_count": null,
   "id": "1c2a0e13",
   "metadata": {},
   "outputs": [],
   "source": [
    "#Run this cell to create a pedictor from the model trained above. \n",
    "#If making using this notebook to make predictions after closing kernel see below create predictor.\n",
    "\n",
    "from detectron2.engine import DefaultPredictor\n",
    "\n",
    "\n",
    "# Predicting (create predictor)\n",
    "#cfg.MODEL.WEIGHTS = os.path.join(cfg.OUTPUT_DIR, \"model_final.pth\")\n",
    "cfg.MODEL.WEIGHTS = os.path.join(cfg.OUTPUT_DIR, \"model_final.pth\")\n",
    "\n",
    "cfg.MODEL.ROI_HEADS.SCORE_THRESH_TEST = 0.2   # set the testing threshold for this model\n",
    "cfg.DATASETS.TEST = (registered_data_eval, )\n",
    "predictor = DefaultPredictor(cfg)\n"
   ]
  },
  {
   "cell_type": "markdown",
   "id": "015f07e0",
   "metadata": {},
   "source": [
    "### Score random image from evaluation data"
   ]
  },
  {
   "cell_type": "code",
   "execution_count": null,
   "id": "7f508245",
   "metadata": {},
   "outputs": [],
   "source": [
    "#run this cell to view a pridction of a random image from the training data.\n",
    "#Note: this will liekly show overfit data.\n",
    "from detectron2.utils.visualizer import ColorMode\n",
    "import random\n",
    "import cv2\n",
    "%matplotlib inline\n",
    "import matplotlib.pyplot as plt\n",
    "\n",
    "from detectron2.utils.visualizer import Visualizer\n",
    "\n",
    "#for d in random.sample(dataset_dicts, 3): \n",
    "for d in dataset_dicts1[2:4]:\n",
    "    im = cv2.imread(d[\"file_name\"])\n",
    "    outputs = predictor(im)\n",
    "    vis = Visualizer(im[:, :, ::-1],\n",
    "                   metadata=dataset_metadata_eval, \n",
    "                   scale=0.8, \n",
    "                   instance_mode=ColorMode.IMAGE_BW   # remove the colors of unsegmented pixels\n",
    "    )\n",
    "    v = vis.draw_instance_predictions(outputs[\"instances\"].to(\"cpu\"))\n",
    "    #cv2_imshow(vis.get_image()[:, :, ::-1])\n",
    "    plt.figure(figsize = (20,20))\n",
    "    plt.imshow(v.get_image()[:,:, ::-1])\n",
    "    plt.show()"
   ]
  },
  {
   "cell_type": "markdown",
   "id": "c8f10711",
   "metadata": {},
   "source": [
    "### Score chosen image from desktop"
   ]
  },
  {
   "cell_type": "code",
   "execution_count": null,
   "id": "e633b7c6",
   "metadata": {},
   "outputs": [],
   "source": [
    "# Validate new image\n",
    "#Use this cell to indicate the specific image you want to score. Will need to change the directory in \"\" below. \n",
    "\n",
    "im = cv2.imread(\"<path to file here e.g. C://User//test.png>\")\n",
    "outputs = predictor(im)\n",
    "vis = Visualizer(im[:, :, ::-1],\n",
    "               metadata=dataset_metadata1, \n",
    "               scale=0.8, \n",
    "               instance_mode=ColorMode.IMAGE_BW   # remove the colors of unsegmented pixels\n",
    ")\n",
    "v = vis.draw_instance_predictions(outputs[\"instances\"].to(\"cpu\"))\n",
    "#cv2_imshow(vis.get_image()[:, :, ::-1])\n",
    "plt.figure(figsize = (20,20))\n",
    "plt.imshow(v.get_image()[:,:, ::-1])\n",
    "plt.show()"
   ]
  },
  {
   "cell_type": "markdown",
   "id": "aa6406a5",
   "metadata": {},
   "source": [
    "# Make predictions from model (Post-training)\n",
    "\n",
    "If you have trained a model and closed the notebook you need to recreate a predictor with all the dependencies below, without having to retrain the model again. \n",
    "The cells below are setup to make predictions on a random image in the evaluation dataset if registered or a specified image on your harddrive.  "
   ]
  },
  {
   "cell_type": "code",
   "execution_count": null,
   "id": "48d24fa0",
   "metadata": {},
   "outputs": [],
   "source": [
    "from detectron2.engine import DefaultPredictor\n",
    "from detectron2.config import get_cfg\n",
    "from detectron2.utils.visualizer import Visualizer\n",
    "from detectron2.data import MetadataCatalog\n",
    "import cv2\n",
    "import os\n",
    "import random\n",
    "import cv2\n",
    "%matplotlib inline\n",
    "import matplotlib.pyplot as plt\n",
    "\n",
    "\n",
    "# Create config\n",
    "cfg = get_cfg()\n",
    "cfg.merge_from_file(\"/configs/COCO-InstanceSegmentation/mask_rcnn_R_50_FPN_3x.yaml\")\n",
    "cfg.MODEL.ROI_HEADS.SCORE_THRESH_TEST = 0.5  # set threshold for this model\n",
    "cfg.MODEL.WEIGHTS = os.path.join(cfg.OUTPUT_DIR, \"model_final.pth\")\n",
    "cfg.DATASETS.TEST = (registered_data, )\n",
    "cfg.MODEL.SEM_SEG_HEAD.NUM_CLASSES = 38\n",
    "cfg.MODEL.ROI_HEADS.NUM_CLASSES = 38\n",
    "\n",
    "# Create predictor\n",
    "predictor = DefaultPredictor(cfg)"
   ]
  },
  {
   "cell_type": "code",
   "execution_count": null,
   "id": "4e3bebd1",
   "metadata": {
    "scrolled": true
   },
   "outputs": [],
   "source": [
    "\n",
    "from detectron2.utils.visualizer import ColorMode\n",
    "\n",
    "\n",
    "#for d in random.sample(dataset_dicts, 3): \n",
    "for d in dataset_dicts[2:4]:\n",
    "    im = cv2.imread(d[\"file_name\"])\n",
    "    outputs = predictor(im)\n",
    "    vis = Visualizer(im[:, :, ::-1],\n",
    "                   metadata=dataset_metadata_eval, \n",
    "                   scale=0.8, \n",
    "                   instance_mode=ColorMode.IMAGE_BW   # remove the colors of unsegmented pixels\n",
    "    )\n",
    "    v = vis.draw_instance_predictions(outputs[\"instances\"].to(\"cpu\"))\n",
    "    #cv2_imshow(vis.get_image()[:, :, ::-1])\n",
    "    plt.figure(figsize = (20,20))\n",
    "    plt.imshow(v.get_image()[:,:, ::-1])\n",
    "    plt.show()"
   ]
  },
  {
   "cell_type": "code",
   "execution_count": null,
   "id": "76ad3097",
   "metadata": {},
   "outputs": [],
   "source": [
    "# Validate new image\n",
    "#im = cv2.imread(d[\"file_name\"])\n",
    "\n",
    "im = cv2.imread(\"<insert test file>\")\n",
    "outputs = predictor(im)\n",
    "vis = Visualizer(im[:, :, ::-1],\n",
    "               metadata=dataset_metadata_eval, \n",
    "               scale=0.8, \n",
    "               instance_mode=ColorMode.IMAGE_BW   # remove the colors of unsegmented pixels\n",
    ")\n",
    "v = vis.draw_instance_predictions(outputs[\"instances\"].to(\"cpu\"))\n",
    "#cv2_imshow(vis.get_image()[:, :, ::-1])\n",
    "plt.figure(figsize = (20,20))\n",
    "plt.imshow(v.get_image()[:,:, ::-1])\n",
    "plt.show()"
   ]
  },
  {
   "cell_type": "markdown",
   "id": "10e25b63",
   "metadata": {},
   "source": [
    "# Score Video"
   ]
  },
  {
   "cell_type": "code",
   "execution_count": null,
   "id": "dfb71f7b",
   "metadata": {},
   "outputs": [],
   "source": [
    "#Run this cell to score a video.\n",
    "\n",
    "import detectron2\n",
    "from detectron2.utils.logger import setup_logger\n",
    "setup_logger()\n",
    "import numpy as np\n",
    "import tqdm\n",
    "import cv2\n",
    "from detectron2 import model_zoo\n",
    "from detectron2.engine import DefaultPredictor\n",
    "from detectron2.config import get_cfg\n",
    "from detectron2.utils.video_visualizer import VideoVisualizer\n",
    "from detectron2.utils.visualizer import ColorMode, Visualizer\n",
    "from detectron2.data import MetadataCatalog\n",
    "import time\n",
    "\n",
    "video = cv2.VideoCapture('E://<path to video>/.mp4')\n",
    "width = int(video.get(cv2.CAP_PROP_FRAME_WIDTH))\n",
    "height = int(video.get(cv2.CAP_PROP_FRAME_HEIGHT))\n",
    "frames_per_second = video.get(cv2.CAP_PROP_FPS)\n",
    "num_frames = int(video.get(cv2.CAP_PROP_FRAME_COUNT))\n",
    "\n",
    "\n",
    "video_writer = cv2.VideoWriter('scoredvideo.mp4', fourcc=cv2.VideoWriter_fourcc(*\"mp4v\"), fps=float(frames_per_second), frameSize=(width, height), isColor=True)\n",
    "\n",
    "\n",
    "cfg = get_cfg()\n",
    "cfg.merge_from_file(\"/configs/COCO-InstanceSegmentation/mask_rcnn_R_50_FPN_3x.yaml\")\n",
    "cfg.MODEL.ROI_HEADS.SCORE_THRESH_TEST = 0.7  \n",
    "cfg.MODEL.WEIGHTS = os.path.join(cfg.OUTPUT_DIR, \"model_final.pth\")\n",
    "cfg.DATASETS.TEST = (registered_data, )\n",
    "cfg.MODEL.SEM_SEG_HEAD.NUM_CLASSES = 9\n",
    "cfg.MODEL.ROI_HEADS.NUM_CLASSES = 9\n",
    "predictor = DefaultPredictor(cfg)\n",
    "\n",
    "\n",
    "v = VideoVisualizer(MetadataCatalog.get(cfg.DATASETS.TEST[0]), ColorMode.IMAGE)\n",
    "\n",
    "def runOnVideo(video, maxFrames):\n",
    "    \"\"\" Runs the predictor on every frame in the video (unless maxFrames is given),\n",
    "    and returns the frame with the predictions drawn.\n",
    "    \"\"\"\n",
    "\n",
    "    readFrames = 0\n",
    "    while True:\n",
    "        hasFrame, frame = video.read()\n",
    "        if not hasFrame:\n",
    "            break\n",
    "\n",
    "    \n",
    "        outputs = predictor(frame)\n",
    "\n",
    "       \n",
    "        frame = cv2.cvtColor(frame, cv2.COLOR_RGB2BGR)\n",
    "\n",
    "        \n",
    "        visualization = v.draw_instance_predictions(frame, outputs[\"instances\"].to(\"cpu\"))\n",
    "\n",
    "       \n",
    "        visualization = cv2.cvtColor(visualization.get_image(), cv2.COLOR_RGB2BGR)\n",
    "\n",
    "        yield visualization\n",
    "\n",
    "        readFrames += 1\n",
    "        if readFrames > maxFrames:\n",
    "            break\n",
    "\n",
    "\n",
    "num_frames = 720\n",
    "\n",
    "\n",
    "for visualization in tqdm.tqdm(runOnVideo(video, num_frames), total=num_frames):\n",
    "\n",
    "   \n",
    "    cv2.imwrite('scored_detectron2.png', visualization)\n",
    "\n",
    "    \n",
    "    video_writer.write(visualization)\n",
    "\n",
    "\n",
    "video.release()\n",
    "video_writer.release()\n",
    "cv2.destroyAllWindows()"
   ]
  },
  {
   "cell_type": "markdown",
   "id": "de1a38b3",
   "metadata": {},
   "source": [
    "# Evaluate dataset (Evaluation Dataset)"
   ]
  },
  {
   "cell_type": "code",
   "execution_count": null,
   "id": "9157d6f1",
   "metadata": {},
   "outputs": [],
   "source": [
    "from detectron2.data import DatasetCatalog, MetadataCatalog, build_detection_test_loader\n",
    "from detectron2.evaluation import COCOEvaluator, inference_on_dataset\n",
    "\n",
    "cfg.MODEL.WEIGHTS = os.path.join(cfg.OUTPUT_DIR, \"model_final.pth\")\n",
    "cfg.MODEL.ROI_HEADS.SCORE_THRESH_TEST = 0.85\n",
    "predictor = DefaultPredictor(cfg)\n",
    "evaluator = COCOEvaluator(registered_data_eval, cfg, False, output_dir=\"./output/COCO_evaluator\")\n",
    "val_loader = build_detection_test_loader(cfg, registered_data_eval)\n",
    "inference_on_dataset(trainer.model, val_loader, evaluator)"
   ]
  }
 ],
 "metadata": {
  "kernelspec": {
   "display_name": "Python 3.8.5 ('base')",
   "language": "python",
   "name": "python3"
  },
  "language_info": {
   "codemirror_mode": {
    "name": "ipython",
    "version": 3
   },
   "file_extension": ".py",
   "mimetype": "text/x-python",
   "name": "python",
   "nbconvert_exporter": "python",
   "pygments_lexer": "ipython3",
   "version": "3.8.5"
  },
  "vscode": {
   "interpreter": {
    "hash": "5bbd0e74114ad0b277c5b9fb4504daaeac032fe9115eb2a1dcc303b3dc066136"
   }
  }
 },
 "nbformat": 4,
 "nbformat_minor": 5
}
